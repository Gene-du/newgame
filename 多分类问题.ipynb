{
 "cells": [
  {
   "cell_type": "code",
   "execution_count": 1,
   "metadata": {},
   "outputs": [],
   "source": [
    "import tensorflow as tf\n",
    "import numpy as np\n",
    "import matplotlib.pyplot as plt\n",
    "from tensorflow import keras"
   ]
  },
  {
   "cell_type": "code",
   "execution_count": 2,
   "metadata": {},
   "outputs": [],
   "source": [
    "(train_data,train_labels),(test_data,test_labels)=keras.datasets.reuters.load_data(num_words=10000)"
   ]
  },
  {
   "cell_type": "code",
   "execution_count": 3,
   "metadata": {},
   "outputs": [
    {
     "data": {
      "text/plain": [
       "(8982,)"
      ]
     },
     "execution_count": 3,
     "metadata": {},
     "output_type": "execute_result"
    }
   ],
   "source": [
    "train_data.shape"
   ]
  },
  {
   "cell_type": "code",
   "execution_count": 4,
   "metadata": {},
   "outputs": [
    {
     "data": {
      "text/plain": [
       "(8982,)"
      ]
     },
     "execution_count": 4,
     "metadata": {},
     "output_type": "execute_result"
    }
   ],
   "source": [
    "train_labels.shape"
   ]
  },
  {
   "cell_type": "code",
   "execution_count": 5,
   "metadata": {},
   "outputs": [],
   "source": [
    "def vectorize_sequences(sequences,dimension=10000):\n",
    "    results=np.zeros((len(sequences),dimension))\n",
    "    for i,sequence in enumerate(sequences):\n",
    "        results[i,sequence]=1.\n",
    "    return results\n"
   ]
  },
  {
   "cell_type": "code",
   "execution_count": 6,
   "metadata": {},
   "outputs": [],
   "source": [
    "x_train=vectorize_sequences(train_data)\n",
    "x_test=vectorize_sequences(test_data)"
   ]
  },
  {
   "cell_type": "code",
   "execution_count": 7,
   "metadata": {},
   "outputs": [],
   "source": [
    "ome_hot_train_labels=keras.utils.to_categorical(train_labels)\n",
    "ome_hot_test_labels=keras.utils.to_categorical(test_labels)"
   ]
  },
  {
   "cell_type": "code",
   "execution_count": 8,
   "metadata": {},
   "outputs": [],
   "source": [
    "model=keras.models.Sequential()\n",
    "model.add(keras.layers.Dense(64,activation='relu',input_shape=(10000,)))\n",
    "model.add(keras.layers.Dense(64,activation='relu'))\n",
    "model.add(keras.layers.Dense(46,activation='softmax'))"
   ]
  },
  {
   "cell_type": "code",
   "execution_count": 9,
   "metadata": {},
   "outputs": [],
   "source": [
    "model.compile(optimizer='Adam',\n",
    "             loss='categorical_crossentropy',\n",
    "             metrics=['acc'])"
   ]
  },
  {
   "cell_type": "code",
   "execution_count": 10,
   "metadata": {},
   "outputs": [],
   "source": [
    "x_val=x_train[:1000]\n",
    "partial_x_train=x_train[1000:]\n",
    "y_val=ome_hot_train_labels[:1000]\n",
    "partial_y_train=ome_hot_train_labels[1000:]"
   ]
  },
  {
   "cell_type": "code",
   "execution_count": 11,
   "metadata": {},
   "outputs": [
    {
     "name": "stdout",
     "output_type": "stream",
     "text": [
      "Train on 7982 samples, validate on 1000 samples\n",
      "Epoch 1/20\n",
      "7982/7982 [==============================] - 2s 224us/sample - loss: 3.4001 - acc: 0.3839 - val_loss: 2.7310 - val_acc: 0.5470\n",
      "Epoch 2/20\n",
      "7982/7982 [==============================] - 1s 120us/sample - loss: 2.1650 - acc: 0.5869 - val_loss: 1.6990 - val_acc: 0.6280\n",
      "Epoch 3/20\n",
      "7982/7982 [==============================] - 1s 121us/sample - loss: 1.4030 - acc: 0.7003 - val_loss: 1.3180 - val_acc: 0.7070\n",
      "Epoch 4/20\n",
      "7982/7982 [==============================] - 1s 123us/sample - loss: 1.0477 - acc: 0.7751 - val_loss: 1.1493 - val_acc: 0.7580\n",
      "Epoch 5/20\n",
      "7982/7982 [==============================] - 1s 122us/sample - loss: 0.8134 - acc: 0.8257 - val_loss: 1.0481 - val_acc: 0.7840\n",
      "Epoch 6/20\n",
      "7982/7982 [==============================] - 1s 124us/sample - loss: 0.6335 - acc: 0.8666 - val_loss: 0.9814 - val_acc: 0.8000\n",
      "Epoch 7/20\n",
      "7982/7982 [==============================] - 1s 124us/sample - loss: 0.4894 - acc: 0.9000 - val_loss: 0.9330 - val_acc: 0.8050\n",
      "Epoch 8/20\n",
      "7982/7982 [==============================] - 1s 126us/sample - loss: 0.3790 - acc: 0.9251 - val_loss: 0.9041 - val_acc: 0.8120\n",
      "Epoch 9/20\n",
      "7982/7982 [==============================] - 1s 127us/sample - loss: 0.2972 - acc: 0.9360 - val_loss: 0.8977 - val_acc: 0.8170\n",
      "Epoch 10/20\n",
      "7982/7982 [==============================] - 1s 138us/sample - loss: 0.2428 - acc: 0.9469 - val_loss: 0.9157 - val_acc: 0.8040\n",
      "Epoch 11/20\n",
      "7982/7982 [==============================] - 1s 136us/sample - loss: 0.2074 - acc: 0.9510 - val_loss: 0.9119 - val_acc: 0.8080\n",
      "Epoch 12/20\n",
      "7982/7982 [==============================] - 1s 141us/sample - loss: 0.1762 - acc: 0.9546 - val_loss: 0.9228 - val_acc: 0.8140\n",
      "Epoch 13/20\n",
      "7982/7982 [==============================] - 1s 139us/sample - loss: 0.1536 - acc: 0.9559 - val_loss: 0.9194 - val_acc: 0.8190\n",
      "Epoch 14/20\n",
      "7982/7982 [==============================] - 1s 137us/sample - loss: 0.1410 - acc: 0.9577 - val_loss: 0.9387 - val_acc: 0.8120\n",
      "Epoch 15/20\n",
      "7982/7982 [==============================] - 1s 128us/sample - loss: 0.1297 - acc: 0.9585 - val_loss: 0.9590 - val_acc: 0.8100\n",
      "Epoch 16/20\n",
      "7982/7982 [==============================] - 1s 123us/sample - loss: 0.1225 - acc: 0.9590 - val_loss: 0.9588 - val_acc: 0.8110\n",
      "Epoch 17/20\n",
      "7982/7982 [==============================] - 1s 124us/sample - loss: 0.1146 - acc: 0.9619 - val_loss: 0.9774 - val_acc: 0.8110\n",
      "Epoch 18/20\n",
      "7982/7982 [==============================] - 1s 127us/sample - loss: 0.1073 - acc: 0.9605 - val_loss: 0.9942 - val_acc: 0.8170\n",
      "Epoch 19/20\n",
      "7982/7982 [==============================] - 1s 129us/sample - loss: 0.1052 - acc: 0.9630 - val_loss: 1.0010 - val_acc: 0.8130\n",
      "Epoch 20/20\n",
      "7982/7982 [==============================] - 1s 128us/sample - loss: 0.1010 - acc: 0.9644 - val_loss: 1.0219 - val_acc: 0.8060\n"
     ]
    }
   ],
   "source": [
    "history=model.fit(partial_x_train,partial_y_train,epochs=20,batch_size=512,validation_data=(x_val,y_val))"
   ]
  },
  {
   "cell_type": "code",
   "execution_count": 16,
   "metadata": {},
   "outputs": [
    {
     "data": {
      "image/png": "[encoded data removed]",
      "text/plain": [
       "<Figure size 432x288 with 1 Axes>"
      ]
     },
     "metadata": {
      "needs_background": "light"
     },
     "output_type": "display_data"
    }
   ],
   "source": [
    "loss=history.history['loss']\n",
    "val_loss=history.history['val_loss']\n",
    "epochs=range(1,len(loss)+1)\n",
    "plt.plot(epochs,loss,'bo',label='Train loss')\n",
    "plt.plot(epochs,val_loss,'b',label='Val loss')\n",
    "plt.title('Train and validation loss')\n",
    "plt.xlabel('Epochs')\n",
    "plt.ylabel('Loss value')\n",
    "plt.legend()\n",
    "plt.show()"
   ]
  },
  {
   "cell_type": "code",
   "execution_count": 18,
   "metadata": {},
   "outputs": [
    {
     "data": {
      "text/plain": [
       "<matplotlib.legend.Legend at 0x19654479908>"
      ]
     },
     "execution_count": 18,
     "metadata": {},
     "output_type": "execute_result"
    },
    {
     "data": {
      "image/png": "[encoded data removed]",
      "text/plain": [
       "<Figure size 432x288 with 1 Axes>"
      ]
     },
     "metadata": {
      "needs_background": "light"
     },
     "output_type": "display_data"
    }
   ],
   "source": [
    "train_acc=history.history['acc']\n",
    "val_acc=history.history['val_acc']\n",
    "epochs=range(1,len(loss)+1)\n",
    "plt.plot(epochs,train_acc,'bo',label='Train acc')\n",
    "plt.plot(epochs,val_acc,'b',label='Val acc')\n",
    "plt.title('Train and validation acc')\n",
    "plt.xlabel('Epochs')\n",
    "plt.ylabel('Acc value')\n",
    "plt.legend()"
   ]
  },
  {
   "cell_type": "code",
   "execution_count": 20,
   "metadata": {},
   "outputs": [
    {
     "name": "stdout",
     "output_type": "stream",
     "text": [
      "2246/2246 [==============================] - 0s 185us/sample - loss: 1.0913 - acc: 0.7907\n"
     ]
    }
   ],
   "source": [
    "results=model.evaluate(x_test,ome_hot_test_labels)"
   ]
  },
  {
   "cell_type": "code",
   "execution_count": null,
   "metadata": {},
   "outputs": [],
   "source": []
  }
 ],
 "metadata": {
  "kernelspec": {
   "display_name": "Python 3",
   "language": "python",
   "name": "python3"
  },
  "language_info": {
   "codemirror_mode": {
    "name": "ipython",
    "version": 3
   },
   "file_extension": ".py",
   "mimetype": "text/x-python",
   "name": "python",
   "nbconvert_exporter": "python",
   "pygments_lexer": "ipython3",
   "version": "3.7.7"
  }
 },
 "nbformat": 4,
 "nbformat_minor": 4
}
